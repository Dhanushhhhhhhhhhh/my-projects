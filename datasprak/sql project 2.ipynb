{
 "cells": [
  {
   "cell_type": "code",
   "execution_count": 1,
   "id": "31e10ee1-4bd8-4ae3-adc7-fea2424a2538",
   "metadata": {},
   "outputs": [],
   "source": [
    "import pandas as pd"
   ]
  },
  {
   "cell_type": "code",
   "execution_count": 2,
   "id": "48d2ce19-8af8-457c-a0de-a0f68fc670fa",
   "metadata": {},
   "outputs": [],
   "source": [
    "#python - mysql => pymysql\n",
    "import pymysql"
   ]
  },
  {
   "cell_type": "code",
   "execution_count": 3,
   "id": "28792f2e-67f0-470d-9432-e04b7541c99b",
   "metadata": {},
   "outputs": [],
   "source": [
    "df= pd.read_csv(\"C:/Users/Dhanush/my_data.csv\")\n"
   ]
  },
  {
   "cell_type": "code",
   "execution_count": 4,
   "id": "2dcae8da-00a0-408c-a48c-fab2b4599715",
   "metadata": {},
   "outputs": [
    {
     "data": {
      "text/plain": [
       "ProductKey          int64\n",
       "Product Name       object\n",
       "Brand              object\n",
       "Color              object\n",
       "Unit Cost USD     float64\n",
       "Unit Price USD    float64\n",
       "SubcategoryKey      int64\n",
       "Subcategory        object\n",
       "CategoryKey         int64\n",
       "Category           object\n",
       "Order Number        int64\n",
       "Line Item           int64\n",
       "Order Date         object\n",
       "Delivery Date      object\n",
       "CustomerKey         int64\n",
       "StoreKey            int64\n",
       "Quantity            int64\n",
       "Currency Code      object\n",
       "Gender             object\n",
       "Name               object\n",
       "City               object\n",
       "State Code         object\n",
       "State              object\n",
       "Zip Code           object\n",
       "Continent          object\n",
       "Birthday           object\n",
       "Age                 int64\n",
       "AgeGroup           object\n",
       "Country            object\n",
       "Square Meters     float64\n",
       "Open Date          object\n",
       "Open Year           int64\n",
       "Date               object\n",
       "Currency           object\n",
       "Exchange          float64\n",
       "Under_25          float64\n",
       "Age_25_35         float64\n",
       "Age_36_50         float64\n",
       "Above_50          float64\n",
       "dtype: object"
      ]
     },
     "execution_count": 4,
     "metadata": {},
     "output_type": "execute_result"
    }
   ],
   "source": [
    "df.dtypes"
   ]
  },
  {
   "cell_type": "code",
   "execution_count": 5,
   "id": "241bce48-0050-496c-bed3-f25e8be6bace",
   "metadata": {},
   "outputs": [],
   "source": [
    "\n",
    "# Missing dates become NaT\n",
    "df['Delivery Date'] = df['Delivery Date'].fillna(pd.NaT)\n"
   ]
  },
  {
   "cell_type": "code",
   "execution_count": 6,
   "id": "e0cc796a-bb71-4838-8ff6-d5e7ffe14f0b",
   "metadata": {},
   "outputs": [],
   "source": [
    "import pandas as pd\n",
    "\n",
    "# Let pandas guess the format\n",
    "for col in ['Delivery Date', 'Birthday', 'Open Date', 'Order Date']:\n",
    "    df[col] = pd.to_datetime(df[col], errors='coerce')\n"
   ]
  },
  {
   "cell_type": "code",
   "execution_count": 7,
   "id": "3dc3fc12-2caf-4592-83d6-1815166ef77a",
   "metadata": {},
   "outputs": [],
   "source": [
    "myconnection = pymysql.connect(host='127.0.0.1',user='root',passwd='Dhanush@2005')"
   ]
  },
  {
   "cell_type": "code",
   "execution_count": 8,
   "id": "8ae80483-c5eb-4fad-b32d-a2682fc2ee7c",
   "metadata": {},
   "outputs": [
    {
     "data": {
      "text/plain": [
       "1"
      ]
     },
     "execution_count": 8,
     "metadata": {},
     "output_type": "execute_result"
    }
   ],
   "source": [
    "#writing the file\n",
    "myconnection.cursor().execute(\"create database guvi_project\")"
   ]
  },
  {
   "cell_type": "code",
   "execution_count": 10,
   "id": "0c542837-d795-4c8c-9067-f57cd5bc1e82",
   "metadata": {},
   "outputs": [
    {
     "name": "stdin",
     "output_type": "stream",
     "text": [
      "Enter table name:  df\n"
     ]
    }
   ],
   "source": [
    "import pandas as pd\n",
    "\n",
    "# 1️⃣ Clean column names\n",
    "col = [i.replace(\" \", \"_\") for i in df.columns]\n",
    "\n",
    "# 2️⃣ Map Pandas dtypes to MySQL types\n",
    "dtype_map = {\n",
    "    'int64': 'INT',\n",
    "    'float64': 'FLOAT',\n",
    "    'object': 'TEXT',\n",
    "    'category': 'TEXT',\n",
    "    'datetime64[ns]': 'DATETIME',\n",
    "    'bool': 'BOOLEAN'\n",
    "}\n",
    "\n",
    "columns = \",\".join(f\"{i} {dtype_map[str(j)]}\" for i, j in zip(col, df.dtypes))\n",
    "\n",
    "# 3️⃣ Create table\n",
    "table_name = input(\"Enter table name: \")\n",
    "cursor = myconnection.cursor()\n",
    "cursor.execute(f\"CREATE TABLE guvi_project.{table_name} ({columns})\")\n",
    "myconnection.commit()\n",
    "\n",
    "# 4️⃣ Prepare data: convert NaN / NaT to None\n",
    "data = [tuple(None if pd.isna(x) else x for x in row) for row in df.to_numpy()]\n",
    "\n",
    "# 5️⃣ Insert data safely using parameterized query\n",
    "sql = f\"INSERT INTO guvi_project.{table_name} VALUES ({', '.join(['%s']*len(df.columns))})\"\n",
    "cursor.executemany(sql, data)\n",
    "myconnection.commit()\n"
   ]
  }
 ],
 "metadata": {
  "kernelspec": {
   "display_name": "Python 3 (ipykernel)",
   "language": "python",
   "name": "python3"
  },
  "language_info": {
   "codemirror_mode": {
    "name": "ipython",
    "version": 3
   },
   "file_extension": ".py",
   "mimetype": "text/x-python",
   "name": "python",
   "nbconvert_exporter": "python",
   "pygments_lexer": "ipython3",
   "version": "3.13.0"
  }
 },
 "nbformat": 4,
 "nbformat_minor": 5
}
